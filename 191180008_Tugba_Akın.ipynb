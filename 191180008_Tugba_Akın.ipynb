{
 "cells": [
  {
   "cell_type": "code",
   "execution_count": 150,
   "id": "195b38d9",
   "metadata": {},
   "outputs": [],
   "source": [
    "#191180008 TUĞBA AKIN"
   ]
  },
  {
   "cell_type": "code",
   "execution_count": 151,
   "id": "de8692a6",
   "metadata": {},
   "outputs": [],
   "source": [
    "import pandas as pd\n",
    "import numpy as np\n",
    "from sklearn.ensemble import RandomForestClassifier\n",
    "from sklearn.model_selection import train_test_split\n",
    "from sklearn.metrics import accuracy_score, precision_score, recall_score, f1_score\n",
    "from sklearn.tree import export_graphviz\n",
    "from graphviz import Source\n",
    "from graphviz import Digraph\n",
    "from sklearn.metrics import classification_report\n",
    "from sklearn.metrics import classification_report as clf_report\n",
    "from sklearn import tree\n",
    "import matplotlib.pyplot as plt\n",
    "import seaborn as sns\n",
    "import random\n",
    "from sklearn.model_selection import train_test_split\n",
    "from sklearn.metrics import confusion_matrix\n",
    "from sklearn.tree import plot_tree\n",
    "from sklearn.tree import DecisionTreeClassifier\n",
    "import graphviz"
   ]
  },
  {
   "cell_type": "code",
   "execution_count": 152,
   "id": "f52a6c7e",
   "metadata": {},
   "outputs": [],
   "source": [
    "#Q1\n",
    "from sklearn.datasets import load_iris\n",
    "iris = load_iris()\n",
    "# Access the data and target variables"
   ]
  },
  {
   "cell_type": "code",
   "execution_count": 153,
   "id": "51a0fdcf",
   "metadata": {},
   "outputs": [],
   "source": [
    "# Create a DataFrame from the iris data\n",
    "df = pd.DataFrame(iris.data, columns=iris.feature_names)\n",
    "# Add a new column to the DataFrame with the target values\n",
    "df['target'] = iris.target\n"
   ]
  },
  {
   "cell_type": "code",
   "execution_count": 154,
   "id": "3891e108",
   "metadata": {},
   "outputs": [
    {
     "data": {
      "text/html": [
       "<style>#sk-container-id-14 {color: black;background-color: white;}#sk-container-id-14 pre{padding: 0;}#sk-container-id-14 div.sk-toggleable {background-color: white;}#sk-container-id-14 label.sk-toggleable__label {cursor: pointer;display: block;width: 100%;margin-bottom: 0;padding: 0.3em;box-sizing: border-box;text-align: center;}#sk-container-id-14 label.sk-toggleable__label-arrow:before {content: \"▸\";float: left;margin-right: 0.25em;color: #696969;}#sk-container-id-14 label.sk-toggleable__label-arrow:hover:before {color: black;}#sk-container-id-14 div.sk-estimator:hover label.sk-toggleable__label-arrow:before {color: black;}#sk-container-id-14 div.sk-toggleable__content {max-height: 0;max-width: 0;overflow: hidden;text-align: left;background-color: #f0f8ff;}#sk-container-id-14 div.sk-toggleable__content pre {margin: 0.2em;color: black;border-radius: 0.25em;background-color: #f0f8ff;}#sk-container-id-14 input.sk-toggleable__control:checked~div.sk-toggleable__content {max-height: 200px;max-width: 100%;overflow: auto;}#sk-container-id-14 input.sk-toggleable__control:checked~label.sk-toggleable__label-arrow:before {content: \"▾\";}#sk-container-id-14 div.sk-estimator input.sk-toggleable__control:checked~label.sk-toggleable__label {background-color: #d4ebff;}#sk-container-id-14 div.sk-label input.sk-toggleable__control:checked~label.sk-toggleable__label {background-color: #d4ebff;}#sk-container-id-14 input.sk-hidden--visually {border: 0;clip: rect(1px 1px 1px 1px);clip: rect(1px, 1px, 1px, 1px);height: 1px;margin: -1px;overflow: hidden;padding: 0;position: absolute;width: 1px;}#sk-container-id-14 div.sk-estimator {font-family: monospace;background-color: #f0f8ff;border: 1px dotted black;border-radius: 0.25em;box-sizing: border-box;margin-bottom: 0.5em;}#sk-container-id-14 div.sk-estimator:hover {background-color: #d4ebff;}#sk-container-id-14 div.sk-parallel-item::after {content: \"\";width: 100%;border-bottom: 1px solid gray;flex-grow: 1;}#sk-container-id-14 div.sk-label:hover label.sk-toggleable__label {background-color: #d4ebff;}#sk-container-id-14 div.sk-serial::before {content: \"\";position: absolute;border-left: 1px solid gray;box-sizing: border-box;top: 0;bottom: 0;left: 50%;z-index: 0;}#sk-container-id-14 div.sk-serial {display: flex;flex-direction: column;align-items: center;background-color: white;padding-right: 0.2em;padding-left: 0.2em;position: relative;}#sk-container-id-14 div.sk-item {position: relative;z-index: 1;}#sk-container-id-14 div.sk-parallel {display: flex;align-items: stretch;justify-content: center;background-color: white;position: relative;}#sk-container-id-14 div.sk-item::before, #sk-container-id-14 div.sk-parallel-item::before {content: \"\";position: absolute;border-left: 1px solid gray;box-sizing: border-box;top: 0;bottom: 0;left: 50%;z-index: -1;}#sk-container-id-14 div.sk-parallel-item {display: flex;flex-direction: column;z-index: 1;position: relative;background-color: white;}#sk-container-id-14 div.sk-parallel-item:first-child::after {align-self: flex-end;width: 50%;}#sk-container-id-14 div.sk-parallel-item:last-child::after {align-self: flex-start;width: 50%;}#sk-container-id-14 div.sk-parallel-item:only-child::after {width: 0;}#sk-container-id-14 div.sk-dashed-wrapped {border: 1px dashed gray;margin: 0 0.4em 0.5em 0.4em;box-sizing: border-box;padding-bottom: 0.4em;background-color: white;}#sk-container-id-14 div.sk-label label {font-family: monospace;font-weight: bold;display: inline-block;line-height: 1.2em;}#sk-container-id-14 div.sk-label-container {text-align: center;}#sk-container-id-14 div.sk-container {/* jupyter's `normalize.less` sets `[hidden] { display: none; }` but bootstrap.min.css set `[hidden] { display: none !important; }` so we also need the `!important` here to be able to override the default hidden behavior on the sphinx rendered scikit-learn.org. See: https://github.com/scikit-learn/scikit-learn/issues/21755 */display: inline-block !important;position: relative;}#sk-container-id-14 div.sk-text-repr-fallback {display: none;}</style><div id=\"sk-container-id-14\" class=\"sk-top-container\"><div class=\"sk-text-repr-fallback\"><pre>RandomForestClassifier(n_estimators=10)</pre><b>In a Jupyter environment, please rerun this cell to show the HTML representation or trust the notebook. <br />On GitHub, the HTML representation is unable to render, please try loading this page with nbviewer.org.</b></div><div class=\"sk-container\" hidden><div class=\"sk-item\"><div class=\"sk-estimator sk-toggleable\"><input class=\"sk-toggleable__control sk-hidden--visually\" id=\"sk-estimator-id-14\" type=\"checkbox\" checked><label for=\"sk-estimator-id-14\" class=\"sk-toggleable__label sk-toggleable__label-arrow\">RandomForestClassifier</label><div class=\"sk-toggleable__content\"><pre>RandomForestClassifier(n_estimators=10)</pre></div></div></div></div></div>"
      ],
      "text/plain": [
       "RandomForestClassifier(n_estimators=10)"
      ]
     },
     "execution_count": 154,
     "metadata": {},
     "output_type": "execute_result"
    }
   ],
   "source": [
    "# build a Random Forest Classifier which consists of 10 trees to predict the species of Iris Flowers. Bulding that using gini index criterion\n",
    "clf = RandomForestClassifier(criterion='gini', n_estimators=10)\n",
    "#fitting model with the training data\n",
    "clf.fit(X_train, y_train)\n"
   ]
  },
  {
   "cell_type": "code",
   "execution_count": 155,
   "id": "c9ffd2e7",
   "metadata": {},
   "outputs": [],
   "source": [
    "#randomizing data\n",
    "df = df.sample(frac=1)\n",
    "#split the data into training and test set.  %75 of the data for training and the remaining %25 for testing\n",
    "X_train, X_test, y_train, y_test = train_test_split(df.drop('target', axis=1), df['target'], test_size=0.25)"
   ]
  },
  {
   "cell_type": "code",
   "execution_count": 156,
   "id": "8557e9f3",
   "metadata": {},
   "outputs": [],
   "source": [
    "#train the model using the training data.\n",
    "y_pred = clf.predict(X_test)\n"
   ]
  },
  {
   "cell_type": "code",
   "execution_count": 157,
   "id": "1755e79b",
   "metadata": {},
   "outputs": [
    {
     "data": {
      "image/png": "[encoded data removed]",
      "text/plain": [
       "<Figure size 640x480 with 2 Axes>"
      ]
     },
     "metadata": {},
     "output_type": "display_data"
    }
   ],
   "source": [
    "#Create a confusion matrix for predictions with seaborn\n",
    "confm = confusion_matrix(y_test, y_pred)\n",
    "\n",
    "#plot the confusion matrix with seaborn\n",
    "sns.heatmap(confm, annot=True, cmap='viridis', fmt='g')\n",
    "plt.show()\n"
   ]
  },
  {
   "cell_type": "code",
   "execution_count": 158,
   "id": "a4eb741d",
   "metadata": {},
   "outputs": [
    {
     "name": "stdout",
     "output_type": "stream",
     "text": [
      "\n",
      "CONFUSION MATRIX:\n",
      " [[ 9  0  0]\n",
      " [ 0 18  0]\n",
      " [ 0  0 11]]\n"
     ]
    }
   ],
   "source": [
    "#create a confusion matrix\n",
    "print('\\nCONFUSION MATRIX:\\n',confusion_matrix(y_test,y_pred))"
   ]
  },
  {
   "cell_type": "code",
   "execution_count": 159,
   "id": "af170df8",
   "metadata": {},
   "outputs": [
    {
     "name": "stdout",
     "output_type": "stream",
     "text": [
      "[2 0 2 1 2 2 0 0 2 1 1 2 0 2 0 2 2 2 0 1 1 1 2 1 1 2 1 2 1 1 0 1 0 2 0 1 1\n",
      " 1]\n"
     ]
    }
   ],
   "source": [
    "#Q2\n",
    "#use the model you have trained to predict the species of each flower in the test set.\n",
    "model = DecisionTreeClassifier()\n",
    "model.fit(X_train, y_train)\n",
    "\n",
    "y_pred = model.predict(X_test)\n",
    "# Print the predictions\n",
    "print(y_pred)"
   ]
  },
  {
   "cell_type": "code",
   "execution_count": 160,
   "id": "a0106d72",
   "metadata": {},
   "outputs": [
    {
     "name": "stdout",
     "output_type": "stream",
     "text": [
      "Accuracy: 0.9210526315789473\n",
      "Precision: 0.93796992481203\n",
      "Recall: 0.9210526315789473\n",
      "f-1 Score: 0.9222009569377991\n"
     ]
    }
   ],
   "source": [
    "#report the accuracy, precision, recall and f-1 score\n",
    "accuracy = accuracy_score(y_test, y_pred)\n",
    "precision = precision_score(y_test, y_pred, average='weighted')\n",
    "recall = recall_score(y_test, y_pred, average='weighted')\n",
    "f1 = f1_score(y_test, y_pred, average='weighted')\n",
    "\n",
    "print(f'Accuracy: {accuracy:}')\n",
    "print(f'Precision: {precision:}')\n",
    "print(f'Recall: {recall:}')\n",
    "print(f'f-1 Score: {f1:}')\n"
   ]
  },
  {
   "cell_type": "code",
   "execution_count": 161,
   "id": "911aca3b",
   "metadata": {},
   "outputs": [],
   "source": [
    "#Q3\n",
    "#shuffle the rows of the DataFrame randomly\n",
    "df = df.sample(frac=1)\n"
   ]
  },
  {
   "cell_type": "code",
   "execution_count": 162,
   "id": "cf430f14",
   "metadata": {},
   "outputs": [],
   "source": [
    "#choose random tree in the forest\n",
    "estimator = random.choice(clf.estimators_) \n"
   ]
  },
  {
   "cell_type": "code",
   "execution_count": 149,
   "id": "386af858",
   "metadata": {},
   "outputs": [
    {
     "data": {
      "image/svg+xml": [
       "<?xml version=\"1.0\" encoding=\"UTF-8\" standalone=\"no\"?>\n",
       "<!DOCTYPE svg PUBLIC \"-//W3C//DTD SVG 1.1//EN\"\n",
       " \"http://www.w3.org/Graphics/SVG/1.1/DTD/svg11.dtd\">\n",
       "<!-- Generated by graphviz version 7.0.4 (20221203.1631)\n",
       " -->\n",
       "<!-- Title: Tree Pages: 1 -->\n",
       "<svg width=\"464pt\" height=\"671pt\"\n",
       " viewBox=\"0.00 0.00 464.00 671.00\" xmlns=\"http://www.w3.org/2000/svg\" xmlns:xlink=\"http://www.w3.org/1999/xlink\">\n",
       "<g id=\"graph0\" class=\"graph\" transform=\"scale(1 1) rotate(0) translate(4 667)\">\n",
       "<title>Tree</title>\n",
       "<polygon fill=\"white\" stroke=\"none\" points=\"-4,4 -4,-667 460,-667 460,4 -4,4\"/>\n",
       "<!-- 0 -->\n",
       "<g id=\"node1\" class=\"node\">\n",
       "<title>0</title>\n",
       "<path fill=\"#f5effd\" stroke=\"black\" d=\"M211.5,-663C211.5,-663 75.5,-663 75.5,-663 69.5,-663 63.5,-657 63.5,-651 63.5,-651 63.5,-592 63.5,-592 63.5,-586 69.5,-580 75.5,-580 75.5,-580 211.5,-580 211.5,-580 217.5,-580 223.5,-586 223.5,-592 223.5,-592 223.5,-651 223.5,-651 223.5,-657 217.5,-663 211.5,-663\"/>\n",
       "<text text-anchor=\"middle\" x=\"143.5\" y=\"-647.8\" font-family=\"Helvetica,sans-Serif\" font-size=\"14.00\">petal width (cm) &lt;= 0.7</text>\n",
       "<text text-anchor=\"middle\" x=\"143.5\" y=\"-632.8\" font-family=\"Helvetica,sans-Serif\" font-size=\"14.00\">gini = 0.659</text>\n",
       "<text text-anchor=\"middle\" x=\"143.5\" y=\"-617.8\" font-family=\"Helvetica,sans-Serif\" font-size=\"14.00\">samples = 68</text>\n",
       "<text text-anchor=\"middle\" x=\"143.5\" y=\"-602.8\" font-family=\"Helvetica,sans-Serif\" font-size=\"14.00\">value = [38, 30, 44]</text>\n",
       "<text text-anchor=\"middle\" x=\"143.5\" y=\"-587.8\" font-family=\"Helvetica,sans-Serif\" font-size=\"14.00\">class = virginica</text>\n",
       "</g>\n",
       "<!-- 1 -->\n",
       "<g id=\"node2\" class=\"node\">\n",
       "<title>1</title>\n",
       "<path fill=\"#e58139\" stroke=\"black\" d=\"M109,-536.5C109,-536.5 12,-536.5 12,-536.5 6,-536.5 0,-530.5 0,-524.5 0,-524.5 0,-480.5 0,-480.5 0,-474.5 6,-468.5 12,-468.5 12,-468.5 109,-468.5 109,-468.5 115,-468.5 121,-474.5 121,-480.5 121,-480.5 121,-524.5 121,-524.5 121,-530.5 115,-536.5 109,-536.5\"/>\n",
       "<text text-anchor=\"middle\" x=\"60.5\" y=\"-521.3\" font-family=\"Helvetica,sans-Serif\" font-size=\"14.00\">gini = 0.0</text>\n",
       "<text text-anchor=\"middle\" x=\"60.5\" y=\"-506.3\" font-family=\"Helvetica,sans-Serif\" font-size=\"14.00\">samples = 22</text>\n",
       "<text text-anchor=\"middle\" x=\"60.5\" y=\"-491.3\" font-family=\"Helvetica,sans-Serif\" font-size=\"14.00\">value = [38, 0, 0]</text>\n",
       "<text text-anchor=\"middle\" x=\"60.5\" y=\"-476.3\" font-family=\"Helvetica,sans-Serif\" font-size=\"14.00\">class = setosa</text>\n",
       "</g>\n",
       "<!-- 0&#45;&gt;1 -->\n",
       "<g id=\"edge1\" class=\"edge\">\n",
       "<title>0&#45;&gt;1</title>\n",
       "<path fill=\"none\" stroke=\"black\" d=\"M114.47,-579.58C106.81,-568.77 98.51,-557.09 90.78,-546.19\"/>\n",
       "<polygon fill=\"black\" stroke=\"black\" points=\"93.68,-544.23 85.04,-538.1 87.97,-548.28 93.68,-544.23\"/>\n",
       "<text text-anchor=\"middle\" x=\"79.98\" y=\"-557.81\" font-family=\"Helvetica,sans-Serif\" font-size=\"14.00\">True</text>\n",
       "</g>\n",
       "<!-- 2 -->\n",
       "<g id=\"node3\" class=\"node\">\n",
       "<title>2</title>\n",
       "<path fill=\"#d7c0f7\" stroke=\"black\" d=\"M301.5,-544C301.5,-544 151.5,-544 151.5,-544 145.5,-544 139.5,-538 139.5,-532 139.5,-532 139.5,-473 139.5,-473 139.5,-467 145.5,-461 151.5,-461 151.5,-461 301.5,-461 301.5,-461 307.5,-461 313.5,-467 313.5,-473 313.5,-473 313.5,-532 313.5,-532 313.5,-538 307.5,-544 301.5,-544\"/>\n",
       "<text text-anchor=\"middle\" x=\"226.5\" y=\"-528.8\" font-family=\"Helvetica,sans-Serif\" font-size=\"14.00\">petal length (cm) &lt;= 4.75</text>\n",
       "<text text-anchor=\"middle\" x=\"226.5\" y=\"-513.8\" font-family=\"Helvetica,sans-Serif\" font-size=\"14.00\">gini = 0.482</text>\n",
       "<text text-anchor=\"middle\" x=\"226.5\" y=\"-498.8\" font-family=\"Helvetica,sans-Serif\" font-size=\"14.00\">samples = 46</text>\n",
       "<text text-anchor=\"middle\" x=\"226.5\" y=\"-483.8\" font-family=\"Helvetica,sans-Serif\" font-size=\"14.00\">value = [0, 30, 44]</text>\n",
       "<text text-anchor=\"middle\" x=\"226.5\" y=\"-468.8\" font-family=\"Helvetica,sans-Serif\" font-size=\"14.00\">class = virginica</text>\n",
       "</g>\n",
       "<!-- 0&#45;&gt;2 -->\n",
       "<g id=\"edge2\" class=\"edge\">\n",
       "<title>0&#45;&gt;2</title>\n",
       "<path fill=\"none\" stroke=\"black\" d=\"M172.53,-579.58C178.5,-571.16 184.86,-562.2 191.03,-553.5\"/>\n",
       "<polygon fill=\"black\" stroke=\"black\" points=\"193.82,-555.62 196.75,-545.43 188.11,-551.57 193.82,-555.62\"/>\n",
       "<text text-anchor=\"middle\" x=\"201.82\" y=\"-565.15\" font-family=\"Helvetica,sans-Serif\" font-size=\"14.00\">False</text>\n",
       "</g>\n",
       "<!-- 3 -->\n",
       "<g id=\"node4\" class=\"node\">\n",
       "<title>3</title>\n",
       "<path fill=\"#39e581\" stroke=\"black\" d=\"M194,-417.5C194,-417.5 91,-417.5 91,-417.5 85,-417.5 79,-411.5 79,-405.5 79,-405.5 79,-361.5 79,-361.5 79,-355.5 85,-349.5 91,-349.5 91,-349.5 194,-349.5 194,-349.5 200,-349.5 206,-355.5 206,-361.5 206,-361.5 206,-405.5 206,-405.5 206,-411.5 200,-417.5 194,-417.5\"/>\n",
       "<text text-anchor=\"middle\" x=\"142.5\" y=\"-402.3\" font-family=\"Helvetica,sans-Serif\" font-size=\"14.00\">gini = 0.0</text>\n",
       "<text text-anchor=\"middle\" x=\"142.5\" y=\"-387.3\" font-family=\"Helvetica,sans-Serif\" font-size=\"14.00\">samples = 20</text>\n",
       "<text text-anchor=\"middle\" x=\"142.5\" y=\"-372.3\" font-family=\"Helvetica,sans-Serif\" font-size=\"14.00\">value = [0, 25, 0]</text>\n",
       "<text text-anchor=\"middle\" x=\"142.5\" y=\"-357.3\" font-family=\"Helvetica,sans-Serif\" font-size=\"14.00\">class = versicolor</text>\n",
       "</g>\n",
       "<!-- 2&#45;&gt;3 -->\n",
       "<g id=\"edge3\" class=\"edge\">\n",
       "<title>2&#45;&gt;3</title>\n",
       "<path fill=\"none\" stroke=\"black\" d=\"M197.12,-460.58C189.36,-449.77 180.97,-438.09 173.15,-427.19\"/>\n",
       "<polygon fill=\"black\" stroke=\"black\" points=\"176.01,-425.17 167.33,-419.09 170.32,-429.26 176.01,-425.17\"/>\n",
       "</g>\n",
       "<!-- 4 -->\n",
       "<g id=\"node5\" class=\"node\">\n",
       "<title>4</title>\n",
       "<path fill=\"#8f50e8\" stroke=\"black\" d=\"M386.5,-425C386.5,-425 236.5,-425 236.5,-425 230.5,-425 224.5,-419 224.5,-413 224.5,-413 224.5,-354 224.5,-354 224.5,-348 230.5,-342 236.5,-342 236.5,-342 386.5,-342 386.5,-342 392.5,-342 398.5,-348 398.5,-354 398.5,-354 398.5,-413 398.5,-413 398.5,-419 392.5,-425 386.5,-425\"/>\n",
       "<text text-anchor=\"middle\" x=\"311.5\" y=\"-409.8\" font-family=\"Helvetica,sans-Serif\" font-size=\"14.00\">petal length (cm) &lt;= 5.05</text>\n",
       "<text text-anchor=\"middle\" x=\"311.5\" y=\"-394.8\" font-family=\"Helvetica,sans-Serif\" font-size=\"14.00\">gini = 0.183</text>\n",
       "<text text-anchor=\"middle\" x=\"311.5\" y=\"-379.8\" font-family=\"Helvetica,sans-Serif\" font-size=\"14.00\">samples = 26</text>\n",
       "<text text-anchor=\"middle\" x=\"311.5\" y=\"-364.8\" font-family=\"Helvetica,sans-Serif\" font-size=\"14.00\">value = [0, 5, 44]</text>\n",
       "<text text-anchor=\"middle\" x=\"311.5\" y=\"-349.8\" font-family=\"Helvetica,sans-Serif\" font-size=\"14.00\">class = virginica</text>\n",
       "</g>\n",
       "<!-- 2&#45;&gt;4 -->\n",
       "<g id=\"edge4\" class=\"edge\">\n",
       "<title>2&#45;&gt;4</title>\n",
       "<path fill=\"none\" stroke=\"black\" d=\"M256.23,-460.58C262.35,-452.16 268.85,-443.2 275.17,-434.5\"/>\n",
       "<polygon fill=\"black\" stroke=\"black\" points=\"278,-436.57 281.04,-426.42 272.33,-432.46 278,-436.57\"/>\n",
       "</g>\n",
       "<!-- 5 -->\n",
       "<g id=\"node6\" class=\"node\">\n",
       "<title>5</title>\n",
       "<path fill=\"#d0b5f5\" stroke=\"black\" d=\"M304.5,-306C304.5,-306 150.5,-306 150.5,-306 144.5,-306 138.5,-300 138.5,-294 138.5,-294 138.5,-235 138.5,-235 138.5,-229 144.5,-223 150.5,-223 150.5,-223 304.5,-223 304.5,-223 310.5,-223 316.5,-229 316.5,-235 316.5,-235 316.5,-294 316.5,-294 316.5,-300 310.5,-306 304.5,-306\"/>\n",
       "<text text-anchor=\"middle\" x=\"227.5\" y=\"-290.8\" font-family=\"Helvetica,sans-Serif\" font-size=\"14.00\">sepal length (cm) &lt;= 6.45</text>\n",
       "<text text-anchor=\"middle\" x=\"227.5\" y=\"-275.8\" font-family=\"Helvetica,sans-Serif\" font-size=\"14.00\">gini = 0.473</text>\n",
       "<text text-anchor=\"middle\" x=\"227.5\" y=\"-260.8\" font-family=\"Helvetica,sans-Serif\" font-size=\"14.00\">samples = 6</text>\n",
       "<text text-anchor=\"middle\" x=\"227.5\" y=\"-245.8\" font-family=\"Helvetica,sans-Serif\" font-size=\"14.00\">value = [0, 5, 8]</text>\n",
       "<text text-anchor=\"middle\" x=\"227.5\" y=\"-230.8\" font-family=\"Helvetica,sans-Serif\" font-size=\"14.00\">class = virginica</text>\n",
       "</g>\n",
       "<!-- 4&#45;&gt;5 -->\n",
       "<g id=\"edge5\" class=\"edge\">\n",
       "<title>4&#45;&gt;5</title>\n",
       "<path fill=\"none\" stroke=\"black\" d=\"M282.12,-341.58C276.08,-333.16 269.65,-324.2 263.4,-315.5\"/>\n",
       "<polygon fill=\"black\" stroke=\"black\" points=\"266.28,-313.51 257.6,-307.43 260.59,-317.59 266.28,-313.51\"/>\n",
       "</g>\n",
       "<!-- 10 -->\n",
       "<g id=\"node11\" class=\"node\">\n",
       "<title>10</title>\n",
       "<path fill=\"#8139e5\" stroke=\"black\" d=\"M444,-298.5C444,-298.5 347,-298.5 347,-298.5 341,-298.5 335,-292.5 335,-286.5 335,-286.5 335,-242.5 335,-242.5 335,-236.5 341,-230.5 347,-230.5 347,-230.5 444,-230.5 444,-230.5 450,-230.5 456,-236.5 456,-242.5 456,-242.5 456,-286.5 456,-286.5 456,-292.5 450,-298.5 444,-298.5\"/>\n",
       "<text text-anchor=\"middle\" x=\"395.5\" y=\"-283.3\" font-family=\"Helvetica,sans-Serif\" font-size=\"14.00\">gini = 0.0</text>\n",
       "<text text-anchor=\"middle\" x=\"395.5\" y=\"-268.3\" font-family=\"Helvetica,sans-Serif\" font-size=\"14.00\">samples = 20</text>\n",
       "<text text-anchor=\"middle\" x=\"395.5\" y=\"-253.3\" font-family=\"Helvetica,sans-Serif\" font-size=\"14.00\">value = [0, 0, 36]</text>\n",
       "<text text-anchor=\"middle\" x=\"395.5\" y=\"-238.3\" font-family=\"Helvetica,sans-Serif\" font-size=\"14.00\">class = virginica</text>\n",
       "</g>\n",
       "<!-- 4&#45;&gt;10 -->\n",
       "<g id=\"edge10\" class=\"edge\">\n",
       "<title>4&#45;&gt;10</title>\n",
       "<path fill=\"none\" stroke=\"black\" d=\"M340.88,-341.58C348.64,-330.77 357.03,-319.09 364.85,-308.19\"/>\n",
       "<polygon fill=\"black\" stroke=\"black\" points=\"367.68,-310.26 370.67,-300.09 361.99,-306.17 367.68,-310.26\"/>\n",
       "</g>\n",
       "<!-- 6 -->\n",
       "<g id=\"node7\" class=\"node\">\n",
       "<title>6</title>\n",
       "<path fill=\"#a06aec\" stroke=\"black\" d=\"M215.5,-187C215.5,-187 75.5,-187 75.5,-187 69.5,-187 63.5,-181 63.5,-175 63.5,-175 63.5,-116 63.5,-116 63.5,-110 69.5,-104 75.5,-104 75.5,-104 215.5,-104 215.5,-104 221.5,-104 227.5,-110 227.5,-116 227.5,-116 227.5,-175 227.5,-175 227.5,-181 221.5,-187 215.5,-187\"/>\n",
       "<text text-anchor=\"middle\" x=\"145.5\" y=\"-171.8\" font-family=\"Helvetica,sans-Serif\" font-size=\"14.00\">sepal width (cm) &lt;= 3.1</text>\n",
       "<text text-anchor=\"middle\" x=\"145.5\" y=\"-156.8\" font-family=\"Helvetica,sans-Serif\" font-size=\"14.00\">gini = 0.32</text>\n",
       "<text text-anchor=\"middle\" x=\"145.5\" y=\"-141.8\" font-family=\"Helvetica,sans-Serif\" font-size=\"14.00\">samples = 5</text>\n",
       "<text text-anchor=\"middle\" x=\"145.5\" y=\"-126.8\" font-family=\"Helvetica,sans-Serif\" font-size=\"14.00\">value = [0, 2, 8]</text>\n",
       "<text text-anchor=\"middle\" x=\"145.5\" y=\"-111.8\" font-family=\"Helvetica,sans-Serif\" font-size=\"14.00\">class = virginica</text>\n",
       "</g>\n",
       "<!-- 5&#45;&gt;6 -->\n",
       "<g id=\"edge6\" class=\"edge\">\n",
       "<title>5&#45;&gt;6</title>\n",
       "<path fill=\"none\" stroke=\"black\" d=\"M198.82,-222.58C192.92,-214.16 186.64,-205.2 180.54,-196.5\"/>\n",
       "<polygon fill=\"black\" stroke=\"black\" points=\"183.5,-194.62 174.89,-188.44 177.77,-198.64 183.5,-194.62\"/>\n",
       "</g>\n",
       "<!-- 9 -->\n",
       "<g id=\"node10\" class=\"node\">\n",
       "<title>9</title>\n",
       "<path fill=\"#39e581\" stroke=\"black\" d=\"M361,-179.5C361,-179.5 258,-179.5 258,-179.5 252,-179.5 246,-173.5 246,-167.5 246,-167.5 246,-123.5 246,-123.5 246,-117.5 252,-111.5 258,-111.5 258,-111.5 361,-111.5 361,-111.5 367,-111.5 373,-117.5 373,-123.5 373,-123.5 373,-167.5 373,-167.5 373,-173.5 367,-179.5 361,-179.5\"/>\n",
       "<text text-anchor=\"middle\" x=\"309.5\" y=\"-164.3\" font-family=\"Helvetica,sans-Serif\" font-size=\"14.00\">gini = 0.0</text>\n",
       "<text text-anchor=\"middle\" x=\"309.5\" y=\"-149.3\" font-family=\"Helvetica,sans-Serif\" font-size=\"14.00\">samples = 1</text>\n",
       "<text text-anchor=\"middle\" x=\"309.5\" y=\"-134.3\" font-family=\"Helvetica,sans-Serif\" font-size=\"14.00\">value = [0, 3, 0]</text>\n",
       "<text text-anchor=\"middle\" x=\"309.5\" y=\"-119.3\" font-family=\"Helvetica,sans-Serif\" font-size=\"14.00\">class = versicolor</text>\n",
       "</g>\n",
       "<!-- 5&#45;&gt;9 -->\n",
       "<g id=\"edge9\" class=\"edge\">\n",
       "<title>5&#45;&gt;9</title>\n",
       "<path fill=\"none\" stroke=\"black\" d=\"M256.18,-222.58C263.75,-211.77 271.94,-200.09 279.58,-189.19\"/>\n",
       "<polygon fill=\"black\" stroke=\"black\" points=\"282.38,-191.3 285.25,-181.1 276.64,-187.28 282.38,-191.3\"/>\n",
       "</g>\n",
       "<!-- 7 -->\n",
       "<g id=\"node8\" class=\"node\">\n",
       "<title>7</title>\n",
       "<path fill=\"#8139e5\" stroke=\"black\" d=\"M121.5,-68C121.5,-68 29.5,-68 29.5,-68 23.5,-68 17.5,-62 17.5,-56 17.5,-56 17.5,-12 17.5,-12 17.5,-6 23.5,0 29.5,0 29.5,0 121.5,0 121.5,0 127.5,0 133.5,-6 133.5,-12 133.5,-12 133.5,-56 133.5,-56 133.5,-62 127.5,-68 121.5,-68\"/>\n",
       "<text text-anchor=\"middle\" x=\"75.5\" y=\"-52.8\" font-family=\"Helvetica,sans-Serif\" font-size=\"14.00\">gini = 0.0</text>\n",
       "<text text-anchor=\"middle\" x=\"75.5\" y=\"-37.8\" font-family=\"Helvetica,sans-Serif\" font-size=\"14.00\">samples = 4</text>\n",
       "<text text-anchor=\"middle\" x=\"75.5\" y=\"-22.8\" font-family=\"Helvetica,sans-Serif\" font-size=\"14.00\">value = [0, 0, 8]</text>\n",
       "<text text-anchor=\"middle\" x=\"75.5\" y=\"-7.8\" font-family=\"Helvetica,sans-Serif\" font-size=\"14.00\">class = virginica</text>\n",
       "</g>\n",
       "<!-- 6&#45;&gt;7 -->\n",
       "<g id=\"edge7\" class=\"edge\">\n",
       "<title>6&#45;&gt;7</title>\n",
       "<path fill=\"none\" stroke=\"black\" d=\"M119.43,-103.73C114.01,-95.24 108.28,-86.28 102.82,-77.73\"/>\n",
       "<polygon fill=\"black\" stroke=\"black\" points=\"105.94,-76.12 97.6,-69.57 100.04,-79.89 105.94,-76.12\"/>\n",
       "</g>\n",
       "<!-- 8 -->\n",
       "<g id=\"node9\" class=\"node\">\n",
       "<title>8</title>\n",
       "<path fill=\"#39e581\" stroke=\"black\" d=\"M267,-68C267,-68 164,-68 164,-68 158,-68 152,-62 152,-56 152,-56 152,-12 152,-12 152,-6 158,0 164,0 164,0 267,0 267,0 273,0 279,-6 279,-12 279,-12 279,-56 279,-56 279,-62 273,-68 267,-68\"/>\n",
       "<text text-anchor=\"middle\" x=\"215.5\" y=\"-52.8\" font-family=\"Helvetica,sans-Serif\" font-size=\"14.00\">gini = 0.0</text>\n",
       "<text text-anchor=\"middle\" x=\"215.5\" y=\"-37.8\" font-family=\"Helvetica,sans-Serif\" font-size=\"14.00\">samples = 1</text>\n",
       "<text text-anchor=\"middle\" x=\"215.5\" y=\"-22.8\" font-family=\"Helvetica,sans-Serif\" font-size=\"14.00\">value = [0, 2, 0]</text>\n",
       "<text text-anchor=\"middle\" x=\"215.5\" y=\"-7.8\" font-family=\"Helvetica,sans-Serif\" font-size=\"14.00\">class = versicolor</text>\n",
       "</g>\n",
       "<!-- 6&#45;&gt;8 -->\n",
       "<g id=\"edge8\" class=\"edge\">\n",
       "<title>6&#45;&gt;8</title>\n",
       "<path fill=\"none\" stroke=\"black\" d=\"M171.57,-103.73C176.99,-95.24 182.72,-86.28 188.18,-77.73\"/>\n",
       "<polygon fill=\"black\" stroke=\"black\" points=\"190.96,-79.89 193.4,-69.57 185.06,-76.12 190.96,-79.89\"/>\n",
       "</g>\n",
       "</g>\n",
       "</svg>\n"
      ],
      "text/plain": [
       "<graphviz.sources.Source at 0x1cb44943450>"
      ]
     },
     "execution_count": 149,
     "metadata": {},
     "output_type": "execute_result"
    }
   ],
   "source": [
    "#extract a single tree from the Random Forest. Picking this tree at randomly, it should be one\n",
    "#of the 10 trees used to build the Random Forest Classifier. using Graphviz library to visualize this tree.\n",
    "\n",
    "dot_data = export_graphviz(estimator, out_file=None, feature_names=iris.feature_names, class_names=iris.target_names, filled=True, rounded=True)\n",
    "graph = Source(dot_data)\n",
    "graph"
   ]
  }
 ],
 "metadata": {
  "kernelspec": {
   "display_name": "Python 3 (ipykernel)",
   "language": "python",
   "name": "python3"
  },
  "language_info": {
   "codemirror_mode": {
    "name": "ipython",
    "version": 3
   },
   "file_extension": ".py",
   "mimetype": "text/x-python",
   "name": "python",
   "nbconvert_exporter": "python",
   "pygments_lexer": "ipython3",
   "version": "3.11.0"
  }
 },
 "nbformat": 4,
 "nbformat_minor": 5
}
